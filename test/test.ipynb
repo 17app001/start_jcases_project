{
 "cells": [
  {
   "cell_type": "code",
   "execution_count": 54,
   "metadata": {},
   "outputs": [],
   "source": [
    "import sqlite3\n",
    "from datetime import datetime"
   ]
  },
  {
   "cell_type": "code",
   "execution_count": 55,
   "metadata": {},
   "outputs": [],
   "source": [
    "conn=sqlite3.connect('../db.sqlite3')\n",
    "cursor=conn.cursor()"
   ]
  },
  {
   "cell_type": "markdown",
   "metadata": {},
   "source": [
    "### 目前縣市"
   ]
  },
  {
   "cell_type": "code",
   "execution_count": 56,
   "metadata": {},
   "outputs": [
    {
     "data": {
      "text/plain": [
       "[(1, '基隆市', '2022-02-07'),\n",
       " (2, '台北市', '2022-02-07'),\n",
       " (3, '新北市', '2022-02-07'),\n",
       " (4, '桃園縣', '2022-02-07'),\n",
       " (5, '新竹市', '2022-02-07'),\n",
       " (6, '新竹縣', '2022-02-07'),\n",
       " (7, '苗栗縣', '2022-02-07'),\n",
       " (8, '台中市', '2022-02-07'),\n",
       " (9, '彰化縣', '2022-02-07'),\n",
       " (10, '南投縣', '2022-02-07'),\n",
       " (11, '雲林縣', '2022-02-07'),\n",
       " (12, '嘉義市', '2022-02-07'),\n",
       " (13, '嘉義縣', '2022-02-07'),\n",
       " (14, '台南市', '2022-02-07'),\n",
       " (15, '高雄市', '2022-02-07'),\n",
       " (16, '屏東縣', '2022-02-07'),\n",
       " (17, '台東縣', '2022-02-07'),\n",
       " (18, '花蓮縣', '2022-02-07'),\n",
       " (19, '宜蘭縣', '2022-02-07'),\n",
       " (20, '澎湖縣', '2022-02-07'),\n",
       " (21, '金門縣', '2022-02-07'),\n",
       " (22, '連江縣', '2022-02-07')]"
      ]
     },
     "execution_count": 56,
     "metadata": {},
     "output_type": "execute_result"
    }
   ],
   "source": [
    "list(cursor.execute('select * from user_city'))"
   ]
  },
  {
   "cell_type": "markdown",
   "metadata": {},
   "source": [
    "### 取得今天日期"
   ]
  },
  {
   "cell_type": "code",
   "execution_count": 57,
   "metadata": {},
   "outputs": [
    {
     "data": {
      "text/plain": [
       "'2022-02-07'"
      ]
     },
     "execution_count": 57,
     "metadata": {},
     "output_type": "execute_result"
    }
   ],
   "source": [
    "today=datetime.now().strftime(\"%Y-%m-%d\")\n",
    "today"
   ]
  },
  {
   "cell_type": "markdown",
   "metadata": {},
   "source": [
    "### 執行寫入動作"
   ]
  },
  {
   "cell_type": "code",
   "execution_count": 58,
   "metadata": {},
   "outputs": [],
   "source": [
    "citys=[(1, '基隆市'),\n",
    " (2, '台北市'),\n",
    " (3, '新北市'),\n",
    " (4, '桃園縣'),\n",
    " (5, '新竹市'),\n",
    " (6, '新竹縣'),\n",
    " (7, '苗栗縣'),\n",
    " (8, '台中市'),\n",
    " (9, '彰化縣'),\n",
    " (10, '南投縣'),\n",
    " (11, '雲林縣'),\n",
    " (12, '嘉義市'),\n",
    " (13, '嘉義縣'),\n",
    " (14, '台南市'),\n",
    " (15, '高雄市'),\n",
    " (16, '屏東縣'),\n",
    " (17, '台東縣'),\n",
    " (18, '花蓮縣'),\n",
    " (19, '宜蘭縣'),\n",
    " (20, '澎湖縣'),\n",
    " (21, '金門縣'),\n",
    " (22, '連江縣')]"
   ]
  },
  {
   "cell_type": "code",
   "execution_count": 59,
   "metadata": {},
   "outputs": [],
   "source": [
    "try:\n",
    "    for city in citys:\n",
    "        cursor.execute(f'insert into user_city (id,name,createdon) values({city[0]},\"{city[1]}\",\"{today}\")')\n",
    "        conn.commit()\n",
    "except:\n",
    "    pass"
   ]
  },
  {
   "cell_type": "code",
   "execution_count": 60,
   "metadata": {},
   "outputs": [],
   "source": [
    "conn.close()"
   ]
  },
  {
   "cell_type": "markdown",
   "metadata": {},
   "source": [
    "### 寫入身分"
   ]
  },
  {
   "cell_type": "code",
   "execution_count": 61,
   "metadata": {},
   "outputs": [],
   "source": [
    "conn=sqlite3.connect('../db.sqlite3')\n",
    "cursor=conn.cursor()"
   ]
  },
  {
   "cell_type": "code",
   "execution_count": 62,
   "metadata": {},
   "outputs": [
    {
     "data": {
      "text/plain": [
       "['公司行號', '工作室', '學生身分', '上班族兼職']"
      ]
     },
     "execution_count": 62,
     "metadata": {},
     "output_type": "execute_result"
    }
   ],
   "source": [
    "respondents=['公司行號', '工作室', '學生身分', '上班族兼職']\n",
    "respondents"
   ]
  },
  {
   "cell_type": "code",
   "execution_count": 63,
   "metadata": {},
   "outputs": [],
   "source": [
    "try:\n",
    "    for respondent in respondents:\n",
    "        cursor.execute(f'insert into user_respondent (name,createdon) values(\"{respondent}\",\"{today}\")')\n",
    "        conn.commit()\n",
    "except:\n",
    "    pass"
   ]
  },
  {
   "cell_type": "code",
   "execution_count": 64,
   "metadata": {},
   "outputs": [],
   "source": [
    "conn.close()"
   ]
  },
  {
   "cell_type": "markdown",
   "metadata": {},
   "source": [
    "### 寫入分類"
   ]
  },
  {
   "cell_type": "code",
   "execution_count": 65,
   "metadata": {},
   "outputs": [],
   "source": [
    "categorys=['程式開發',\n",
    " '平面設計',\n",
    " '網頁設計',\n",
    " '翻譯寫作',\n",
    " '商攝娛樂',\n",
    " '影像製作',\n",
    " '空間設計',\n",
    " '生活服務',\n",
    " '活動企劃',\n",
    " '專業顧問',\n",
    " '資訊工程']"
   ]
  },
  {
   "cell_type": "code",
   "execution_count": 66,
   "metadata": {},
   "outputs": [],
   "source": [
    "conn=sqlite3.connect('../db.sqlite3')\n",
    "cursor=conn.cursor()"
   ]
  },
  {
   "cell_type": "code",
   "execution_count": 67,
   "metadata": {},
   "outputs": [],
   "source": [
    "try:\n",
    "    for i,category in enumerate(categorys):\n",
    "        cursor.execute(f'insert into case_category (id,name,createdon) values({i+1},\"{category}\",\"{today}\")')\n",
    "        conn.commit()\n",
    "except:\n",
    "    pass"
   ]
  },
  {
   "cell_type": "markdown",
   "metadata": {},
   "source": [
    "### 寫入金額"
   ]
  },
  {
   "cell_type": "code",
   "execution_count": 68,
   "metadata": {},
   "outputs": [],
   "source": [
    "amounts=['3000','5000','10000~30000','50000','10萬','30萬','50萬~100萬','100萬以上','面議']"
   ]
  },
  {
   "cell_type": "code",
   "execution_count": 69,
   "metadata": {},
   "outputs": [],
   "source": [
    "try:\n",
    "    for i,amount in enumerate(amounts):\n",
    "        cursor.execute(f'insert into case_amount (id,name,createdon) values({i+1},\"{amount}\",\"{today}\")')\n",
    "        conn.commit()\n",
    "except:\n",
    "    pass"
   ]
  },
  {
   "cell_type": "markdown",
   "metadata": {},
   "source": [
    "### 寫入mode"
   ]
  },
  {
   "cell_type": "code",
   "execution_count": 70,
   "metadata": {},
   "outputs": [],
   "source": [
    "\n",
    "modes=['到場配合','遠端合作','面談']"
   ]
  },
  {
   "cell_type": "code",
   "execution_count": 71,
   "metadata": {},
   "outputs": [],
   "source": [
    "try:\n",
    "    for i,mode in enumerate(modes):\n",
    "        cursor.execute(f'insert into case_mode (id,name,createdon) values({i+1},\"{mode}\",\"{today}\")')\n",
    "        conn.commit()\n",
    "except:\n",
    "    pass"
   ]
  },
  {
   "cell_type": "markdown",
   "metadata": {},
   "source": [
    "### 寫入states"
   ]
  },
  {
   "cell_type": "code",
   "execution_count": 72,
   "metadata": {},
   "outputs": [],
   "source": [
    "states=['新進案','發案中','製作中','已結案']"
   ]
  },
  {
   "cell_type": "code",
   "execution_count": 73,
   "metadata": {},
   "outputs": [],
   "source": [
    "try:\n",
    "    for i,state in enumerate(states):\n",
    "        cursor.execute(f'insert into case_state (id,name,createdon) values({i+1},\"{state}\",\"{today}\")')\n",
    "        conn.commit()\n",
    "except:\n",
    "    pass"
   ]
  },
  {
   "cell_type": "markdown",
   "metadata": {},
   "source": [
    "### 寫入periods"
   ]
  },
  {
   "cell_type": "code",
   "execution_count": 74,
   "metadata": {},
   "outputs": [],
   "source": [
    "periods=['3天內','一個禮拜','二~四個禮拜','一個月內','三個月','半年','一年以上','面議']"
   ]
  },
  {
   "cell_type": "code",
   "execution_count": 75,
   "metadata": {},
   "outputs": [],
   "source": [
    "try:\n",
    "    for i,period in enumerate(periods):\n",
    "        cursor.execute(f'insert into case_period (id,name,createdon) values({i+1},\"{period}\",\"{today}\")')\n",
    "        conn.commit()\n",
    "except:\n",
    "    pass"
   ]
  },
  {
   "cell_type": "code",
   "execution_count": 76,
   "metadata": {},
   "outputs": [
    {
     "data": {
      "text/plain": [
       "[(1,\n",
       "  'pbkdf2_sha256$260000$GGVgkIYC61Km5QhIm8SEj5$3+xTB3IH1/Cs/ytTR/gpQSiuKZ9Obrxhn/4m1ht3/NQ=',\n",
       "  '2022-02-06 16:46:00',\n",
       "  1,\n",
       "  'jerry',\n",
       "  '',\n",
       "  '',\n",
       "  1,\n",
       "  1,\n",
       "  '2022-02-06 16:45:00',\n",
       "  'iiiplay001@gmail.com',\n",
       "  0,\n",
       "  0,\n",
       "  15,\n",
       "  3),\n",
       " (2,\n",
       "  'marymarymary',\n",
       "  None,\n",
       "  0,\n",
       "  'mary',\n",
       "  '',\n",
       "  '',\n",
       "  0,\n",
       "  1,\n",
       "  '2022-02-06 16:50:00',\n",
       "  '17app001@gmail.com',\n",
       "  0,\n",
       "  0,\n",
       "  5,\n",
       "  3),\n",
       " (3,\n",
       "  'kevinkevinkevin',\n",
       "  None,\n",
       "  0,\n",
       "  'kevin',\n",
       "  '',\n",
       "  '',\n",
       "  0,\n",
       "  1,\n",
       "  '2022-02-06 16:50:00',\n",
       "  '17app002@gmail.com',\n",
       "  0,\n",
       "  0,\n",
       "  3,\n",
       "  2),\n",
       " (4,\n",
       "  'jackjackjack',\n",
       "  None,\n",
       "  0,\n",
       "  'jack',\n",
       "  '',\n",
       "  '',\n",
       "  0,\n",
       "  1,\n",
       "  '2022-02-06 16:51:00',\n",
       "  'codewithjerry1@gmail.com',\n",
       "  0,\n",
       "  0,\n",
       "  15,\n",
       "  4),\n",
       " (5,\n",
       "  'michaelmichaelmichael',\n",
       "  None,\n",
       "  0,\n",
       "  'michael',\n",
       "  '',\n",
       "  '',\n",
       "  0,\n",
       "  1,\n",
       "  '2022-02-06 16:51:00',\n",
       "  'mdream.studio@gmail.com',\n",
       "  0,\n",
       "  0,\n",
       "  3,\n",
       "  2)]"
      ]
     },
     "execution_count": 76,
     "metadata": {},
     "output_type": "execute_result"
    }
   ],
   "source": [
    "users=list(cursor.execute('select * from user_profile'))\n",
    "users\n"
   ]
  },
  {
   "cell_type": "markdown",
   "metadata": {},
   "source": [
    "### 取得user id"
   ]
  },
  {
   "cell_type": "code",
   "execution_count": 77,
   "metadata": {},
   "outputs": [
    {
     "data": {
      "text/plain": [
       "[1, 2, 3, 4, 5]"
      ]
     },
     "execution_count": 77,
     "metadata": {},
     "output_type": "execute_result"
    }
   ],
   "source": [
    "user_ids=[user[0] for user in users]\n",
    "user_ids"
   ]
  },
  {
   "cell_type": "code",
   "execution_count": 78,
   "metadata": {},
   "outputs": [],
   "source": [
    "import pandas as pd"
   ]
  },
  {
   "cell_type": "markdown",
   "metadata": {},
   "source": [
    "### 讀取資料"
   ]
  },
  {
   "cell_type": "code",
   "execution_count": 79,
   "metadata": {},
   "outputs": [
    {
     "data": {
      "text/html": [
       "<div>\n",
       "<style scoped>\n",
       "    .dataframe tbody tr th:only-of-type {\n",
       "        vertical-align: middle;\n",
       "    }\n",
       "\n",
       "    .dataframe tbody tr th {\n",
       "        vertical-align: top;\n",
       "    }\n",
       "\n",
       "    .dataframe thead th {\n",
       "        text-align: right;\n",
       "    }\n",
       "</style>\n",
       "<table border=\"1\" class=\"dataframe\">\n",
       "  <thead>\n",
       "    <tr style=\"text-align: right;\">\n",
       "      <th></th>\n",
       "      <th>link</th>\n",
       "      <th>title</th>\n",
       "      <th>price</th>\n",
       "      <th>city</th>\n",
       "      <th>detail</th>\n",
       "    </tr>\n",
       "  </thead>\n",
       "  <tbody>\n",
       "    <tr>\n",
       "      <th>0</th>\n",
       "      <td>https://www.tasker.com.tw/case/detail/3mY8n</td>\n",
       "      <td>NodeMCU&amp;QR CODE模組門禁鎖</td>\n",
       "      <td>5,001~1萬</td>\n",
       "      <td>台中市</td>\n",
       "      <td>1.案件說明：NodeMCU 連接QRCODE 模組（Bar Code&amp;QR Code)使用...</td>\n",
       "    </tr>\n",
       "    <tr>\n",
       "      <th>1</th>\n",
       "      <td>https://www.tasker.com.tw/case/detail/J9aZK</td>\n",
       "      <td>系統工程師</td>\n",
       "      <td>1萬~5萬</td>\n",
       "      <td>不限</td>\n",
       "      <td>1.案件說明：徵求系統工程師，需能在IOS、Android系統應用，協助日後維護管理\\r\\n...</td>\n",
       "    </tr>\n",
       "    <tr>\n",
       "      <th>2</th>\n",
       "      <td>https://www.tasker.com.tw/case/detail/54Yz5</td>\n",
       "      <td>SNS APP開發</td>\n",
       "      <td>10萬~30萬</td>\n",
       "      <td>不限</td>\n",
       "      <td>1.案件說明：獨立開發SNS APP，協助上線在IOS、Android系統應用，長期配合協助...</td>\n",
       "    </tr>\n",
       "    <tr>\n",
       "      <th>3</th>\n",
       "      <td>https://www.tasker.com.tw/case/detail/qbLMX</td>\n",
       "      <td>安卓音訊處理APP</td>\n",
       "      <td>1萬~5萬</td>\n",
       "      <td>不限</td>\n",
       "      <td>1.案件說明：協助安卓音訊處理APP，詳細參考附件\\r\\n2.注意事項：具備相關能力或實務經...</td>\n",
       "    </tr>\n",
       "    <tr>\n",
       "      <th>4</th>\n",
       "      <td>https://www.tasker.com.tw/case/detail/b1qeB</td>\n",
       "      <td>Access 資料庫</td>\n",
       "      <td>$3,000</td>\n",
       "      <td>不限</td>\n",
       "      <td>1.案件說明：協助基本Access 資料庫檔案一件，已完成部份\\r\\n2.注意事項：需要12...</td>\n",
       "    </tr>\n",
       "    <tr>\n",
       "      <th>...</th>\n",
       "      <td>...</td>\n",
       "      <td>...</td>\n",
       "      <td>...</td>\n",
       "      <td>...</td>\n",
       "      <td>...</td>\n",
       "    </tr>\n",
       "    <tr>\n",
       "      <th>593</th>\n",
       "      <td>https://www.tasker.com.tw/case/detail/r4YPp</td>\n",
       "      <td>testflight上架</td>\n",
       "      <td>5,001~1萬</td>\n",
       "      <td>不限</td>\n",
       "      <td>1.案件說明：我有多個IOS APP應用要上testflight外測，要能穩定長期不封號\\r...</td>\n",
       "    </tr>\n",
       "    <tr>\n",
       "      <th>594</th>\n",
       "      <td>https://www.tasker.com.tw/case/detail/Y92OZ</td>\n",
       "      <td>藍芽MCU開發</td>\n",
       "      <td>1萬~5萬</td>\n",
       "      <td>不限</td>\n",
       "      <td>1.案件說明：協助藍芽ＭＣＵ開發（新唐）設計， PCB電路layout，（本部地區）合適採取...</td>\n",
       "    </tr>\n",
       "    <tr>\n",
       "      <th>595</th>\n",
       "      <td>https://www.tasker.com.tw/case/detail/Y927K</td>\n",
       "      <td>EXCEL VBA 撰寫</td>\n",
       "      <td>$1,500</td>\n",
       "      <td>不限</td>\n",
       "      <td>1.案件說明：我想要請人代寫一本書 [看財報不抓狂] 中的EXCEL VBA 內容，書中都有...</td>\n",
       "    </tr>\n",
       "    <tr>\n",
       "      <th>596</th>\n",
       "      <td>https://www.tasker.com.tw/case/detail/63rmb</td>\n",
       "      <td>outlook excel</td>\n",
       "      <td>5千以下</td>\n",
       "      <td>台北市</td>\n",
       "      <td>1.案件說明：協助對方回覆之OUTLOOK信件內容中擷取特定內容至Excel指定欄位中\\r\\...</td>\n",
       "    </tr>\n",
       "    <tr>\n",
       "      <th>597</th>\n",
       "      <td>https://www.tasker.com.tw/case/detail/mJvrX</td>\n",
       "      <td>票券系統功能新增與維護</td>\n",
       "      <td>1萬~5萬</td>\n",
       "      <td>不限</td>\n",
       "      <td>1.案件說明：開發與維護平台，包含會員、票券系統\\r\\n2.配合時間：長期\\r\\n3.配合地...</td>\n",
       "    </tr>\n",
       "  </tbody>\n",
       "</table>\n",
       "<p>598 rows × 5 columns</p>\n",
       "</div>"
      ],
      "text/plain": [
       "                                            link                 title  \\\n",
       "0    https://www.tasker.com.tw/case/detail/3mY8n  NodeMCU&QR CODE模組門禁鎖   \n",
       "1    https://www.tasker.com.tw/case/detail/J9aZK                 系統工程師   \n",
       "2    https://www.tasker.com.tw/case/detail/54Yz5             SNS APP開發   \n",
       "3    https://www.tasker.com.tw/case/detail/qbLMX             安卓音訊處理APP   \n",
       "4    https://www.tasker.com.tw/case/detail/b1qeB            Access 資料庫   \n",
       "..                                           ...                   ...   \n",
       "593  https://www.tasker.com.tw/case/detail/r4YPp          testflight上架   \n",
       "594  https://www.tasker.com.tw/case/detail/Y92OZ               藍芽MCU開發   \n",
       "595  https://www.tasker.com.tw/case/detail/Y927K          EXCEL VBA 撰寫   \n",
       "596  https://www.tasker.com.tw/case/detail/63rmb         outlook excel   \n",
       "597  https://www.tasker.com.tw/case/detail/mJvrX           票券系統功能新增與維護   \n",
       "\n",
       "        price city                                             detail  \n",
       "0    5,001~1萬  台中市  1.案件說明：NodeMCU 連接QRCODE 模組（Bar Code&QR Code)使用...  \n",
       "1       1萬~5萬   不限  1.案件說明：徵求系統工程師，需能在IOS、Android系統應用，協助日後維護管理\\r\\n...  \n",
       "2     10萬~30萬   不限  1.案件說明：獨立開發SNS APP，協助上線在IOS、Android系統應用，長期配合協助...  \n",
       "3       1萬~5萬   不限  1.案件說明：協助安卓音訊處理APP，詳細參考附件\\r\\n2.注意事項：具備相關能力或實務經...  \n",
       "4      $3,000   不限  1.案件說明：協助基本Access 資料庫檔案一件，已完成部份\\r\\n2.注意事項：需要12...  \n",
       "..        ...  ...                                                ...  \n",
       "593  5,001~1萬   不限  1.案件說明：我有多個IOS APP應用要上testflight外測，要能穩定長期不封號\\r...  \n",
       "594     1萬~5萬   不限  1.案件說明：協助藍芽ＭＣＵ開發（新唐）設計， PCB電路layout，（本部地區）合適採取...  \n",
       "595    $1,500   不限  1.案件說明：我想要請人代寫一本書 [看財報不抓狂] 中的EXCEL VBA 內容，書中都有...  \n",
       "596      5千以下  台北市  1.案件說明：協助對方回覆之OUTLOOK信件內容中擷取特定內容至Excel指定欄位中\\r\\...  \n",
       "597     1萬~5萬   不限  1.案件說明：開發與維護平台，包含會員、票券系統\\r\\n2.配合時間：長期\\r\\n3.配合地...  \n",
       "\n",
       "[598 rows x 5 columns]"
      ]
     },
     "execution_count": 79,
     "metadata": {},
     "output_type": "execute_result"
    }
   ],
   "source": [
    "df=pd.read_csv('./程式開發.csv',index_col=0)\n",
    "\n",
    "df"
   ]
  },
  {
   "cell_type": "code",
   "execution_count": 80,
   "metadata": {},
   "outputs": [
    {
     "data": {
      "text/plain": [
       "598"
      ]
     },
     "execution_count": 80,
     "metadata": {},
     "output_type": "execute_result"
    }
   ],
   "source": [
    "len(df)"
   ]
  },
  {
   "cell_type": "code",
   "execution_count": 81,
   "metadata": {},
   "outputs": [
    {
     "data": {
      "text/plain": [
       "[]"
      ]
     },
     "execution_count": 81,
     "metadata": {},
     "output_type": "execute_result"
    }
   ],
   "source": [
    "cases=list(cursor.execute('select * from case_case'))\n",
    "cases"
   ]
  },
  {
   "cell_type": "markdown",
   "metadata": {},
   "source": [
    "### 取得最後編號"
   ]
  },
  {
   "cell_type": "code",
   "execution_count": 82,
   "metadata": {},
   "outputs": [
    {
     "data": {
      "text/plain": [
       "1"
      ]
     },
     "execution_count": 82,
     "metadata": {},
     "output_type": "execute_result"
    }
   ],
   "source": [
    "no= cases[-1][0] if len(cases) > 0 else 1\n",
    "no"
   ]
  },
  {
   "cell_type": "code",
   "execution_count": 83,
   "metadata": {},
   "outputs": [
    {
     "data": {
      "text/plain": [
       "'insert into case_case values({},\"{}\",\"{}\",\"{}\",\"{}\",\"{}\",    {},{},{},{},{},{},\"{}\"'"
      ]
     },
     "execution_count": 83,
     "metadata": {},
     "output_type": "execute_result"
    }
   ],
   "source": [
    "sql_str='insert into case_case values({},\"{}\",\"{}\",\"{}\",\"{}\",\"{}\",\\\n",
    "    {},{},{},{},{},{},\"{}\"'\n",
    "sql_str\n"
   ]
  },
  {
   "cell_type": "code",
   "execution_count": 84,
   "metadata": {},
   "outputs": [
    {
     "data": {
      "text/plain": [
       "['https://www.tasker.com.tw/case/detail/3mY8n',\n",
       " 'NodeMCU&QR CODE模組門禁鎖',\n",
       " '5,001~1萬',\n",
       " '台中市',\n",
       " '1.案件說明：NodeMCU 連接QRCODE 模組（Bar Code&QR Code)使用Arduino IDE撰寫，把模組掃到條碼資料顯示在Arduino IDE的監控視窗。\\r\\n2.注意事項：具備相關能力或實務經驗，其他細節詳談']"
      ]
     },
     "execution_count": 84,
     "metadata": {},
     "output_type": "execute_result"
    }
   ],
   "source": [
    "data=df.values.tolist()[0]\n",
    "data"
   ]
  },
  {
   "cell_type": "code",
   "execution_count": 85,
   "metadata": {},
   "outputs": [],
   "source": [
    "import random"
   ]
  },
  {
   "cell_type": "code",
   "execution_count": 86,
   "metadata": {},
   "outputs": [
    {
     "data": {
      "text/plain": [
       "6"
      ]
     },
     "execution_count": 86,
     "metadata": {},
     "output_type": "execute_result"
    }
   ],
   "source": [
    "random.randint(1,len(amounts))"
   ]
  },
  {
   "cell_type": "code",
   "execution_count": 87,
   "metadata": {},
   "outputs": [
    {
     "data": {
      "text/plain": [
       "'insert into case_case values(2,\"NodeMCU&QR CODE模組門禁鎖\",\"1.案件說明：NodeMCU 連接QRCODE 模組（Bar Code&QR Code)使用Arduino IDE撰寫，把模組掃到條碼資料顯示在Arduino IDE的監控視窗。\\r\\n2.注意事項：具備相關能力或實務經驗，其他細節詳談\",\"0987578587\",\"\",\"2022-02-07 18:55:59\",    0,4,3,2,4,4,\"2022-02-07 18:55:59\"'"
      ]
     },
     "execution_count": 87,
     "metadata": {},
     "output_type": "execute_result"
    }
   ],
   "source": [
    "sql_str.format(no+1,data[1],data[4],'0987578587','',datetime.now().strftime(\"%Y-%m-%d %H:%M:%S\"),\n",
    "0,random.randint(1,len(amounts)),random.randint(1,len(categorys)),random.choice(user_ids),\n",
    "random.randint(1,len(periods)),random.randint(1,len(states)),datetime.now().strftime(\"%Y-%m-%d %H:%M:%S\"))\n",
    "\n",
    "\n"
   ]
  },
  {
   "cell_type": "code",
   "execution_count": 88,
   "metadata": {},
   "outputs": [
    {
     "data": {
      "text/plain": [
       "5"
      ]
     },
     "execution_count": 88,
     "metadata": {},
     "output_type": "execute_result"
    }
   ],
   "source": [
    "random.choice(user_ids)"
   ]
  },
  {
   "cell_type": "code",
   "execution_count": 89,
   "metadata": {},
   "outputs": [],
   "source": [
    "cursor.execute('delete from case_case')\n",
    "conn.commit()\n"
   ]
  },
  {
   "cell_type": "markdown",
   "metadata": {},
   "source": [
    "### 寫入資料"
   ]
  },
  {
   "cell_type": "code",
   "execution_count": 90,
   "metadata": {},
   "outputs": [
    {
     "name": "stdout",
     "output_type": "stream",
     "text": [
      "near \"有可能\": syntax error 35\n",
      "near \"智能手錶\": syntax error 89\n",
      "near \"台灣加權指數\": syntax error 148\n",
      "near \"功能達成\": syntax error 251\n",
      "near \"已交貨付款\": syntax error 348\n",
      "near \"貸款利潤\": syntax error 370\n",
      "near \"對造\": syntax error 415\n",
      "near \"正在偵測過高滑點\": syntax error 445\n"
     ]
    }
   ],
   "source": [
    "no= cases[-1][0] if len(cases) > 0 else 0\n",
    "\n",
    "for i,data in enumerate(df.values.tolist()):              \n",
    "        try:   \n",
    "                no+=1\n",
    "                sql_str='insert into case_case values({},\"{}\",\"{}\",\"{}\",\"{}\",\"{}\",\\\n",
    "                \"{}\",{},{},{},{},{},{});'\n",
    "                sql_str=sql_str.format(no,data[1],data[4],'0987578587','',datetime.now().strftime(\"%Y-%m-%d %H:%M:%S\"),datetime.now().strftime(\"%Y-%m-%d %H:%M:%S\"),\n",
    "                        0,random.randint(1,len(amounts)),random.randint(1,len(categorys)),random.choice(user_ids),\n",
    "                        random.randint(1,len(periods)),random.randint(1,len(states)))\n",
    "\n",
    "                #print(sql_str)\n",
    "                \n",
    "                cursor.execute(sql_str)\n",
    "\n",
    "        except Exception as e:\n",
    "                print(e,i)\n",
    "\n",
    "conn.commit()"
   ]
  },
  {
   "cell_type": "code",
   "execution_count": null,
   "metadata": {},
   "outputs": [],
   "source": []
  }
 ],
 "metadata": {
  "interpreter": {
   "hash": "b3ba2566441a7c06988d0923437866b63cedc61552a5af99d1f4fb67d367b25f"
  },
  "kernelspec": {
   "display_name": "Python 3.8.8 64-bit ('base': conda)",
   "language": "python",
   "name": "python3"
  },
  "language_info": {
   "codemirror_mode": {
    "name": "ipython",
    "version": 3
   },
   "file_extension": ".py",
   "mimetype": "text/x-python",
   "name": "python",
   "nbconvert_exporter": "python",
   "pygments_lexer": "ipython3",
   "version": "3.8.8"
  },
  "orig_nbformat": 4
 },
 "nbformat": 4,
 "nbformat_minor": 2
}
