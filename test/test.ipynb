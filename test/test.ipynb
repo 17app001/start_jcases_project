{
 "cells": [
  {
   "cell_type": "code",
   "execution_count": 1,
   "metadata": {},
   "outputs": [],
   "source": [
    "import sqlite3\n",
    "from datetime import datetime"
   ]
  },
  {
   "cell_type": "code",
   "execution_count": 2,
   "metadata": {},
   "outputs": [],
   "source": [
    "conn=sqlite3.connect('../db.sqlite3')\n",
    "cursor=conn.cursor()"
   ]
  },
  {
   "cell_type": "markdown",
   "metadata": {},
   "source": [
    "### 目前縣市"
   ]
  },
  {
   "cell_type": "code",
   "execution_count": 3,
   "metadata": {},
   "outputs": [
    {
     "data": {
      "text/plain": [
       "[]"
      ]
     },
     "execution_count": 3,
     "metadata": {},
     "output_type": "execute_result"
    }
   ],
   "source": [
    "list(cursor.execute('select * from user_city'))"
   ]
  },
  {
   "cell_type": "markdown",
   "metadata": {},
   "source": [
    "### 取得今天日期"
   ]
  },
  {
   "cell_type": "code",
   "execution_count": 4,
   "metadata": {},
   "outputs": [
    {
     "data": {
      "text/plain": [
       "'2022-02-07'"
      ]
     },
     "execution_count": 4,
     "metadata": {},
     "output_type": "execute_result"
    }
   ],
   "source": [
    "today=datetime.now().strftime(\"%Y-%m-%d\")\n",
    "today"
   ]
  },
  {
   "cell_type": "markdown",
   "metadata": {},
   "source": [
    "### 執行寫入動作"
   ]
  },
  {
   "cell_type": "code",
   "execution_count": 5,
   "metadata": {},
   "outputs": [],
   "source": [
    "citys=[(1, '基隆市'),\n",
    " (2, '台北市'),\n",
    " (3, '新北市'),\n",
    " (4, '桃園縣'),\n",
    " (5, '新竹市'),\n",
    " (6, '新竹縣'),\n",
    " (7, '苗栗縣'),\n",
    " (8, '台中市'),\n",
    " (9, '彰化縣'),\n",
    " (10, '南投縣'),\n",
    " (11, '雲林縣'),\n",
    " (12, '嘉義市'),\n",
    " (13, '嘉義縣'),\n",
    " (14, '台南市'),\n",
    " (15, '高雄市'),\n",
    " (16, '屏東縣'),\n",
    " (17, '台東縣'),\n",
    " (18, '花蓮縣'),\n",
    " (19, '宜蘭縣'),\n",
    " (20, '澎湖縣'),\n",
    " (21, '金門縣'),\n",
    " (22, '連江縣')]"
   ]
  },
  {
   "cell_type": "code",
   "execution_count": 6,
   "metadata": {},
   "outputs": [],
   "source": [
    "try:\n",
    "    for city in citys:\n",
    "        cursor.execute(f'insert into user_city (id,name,createdon) values({city[0]},\"{city[1]}\",\"{today}\")')\n",
    "        conn.commit()\n",
    "except:\n",
    "    pass"
   ]
  },
  {
   "cell_type": "code",
   "execution_count": 7,
   "metadata": {},
   "outputs": [],
   "source": [
    "conn.close()"
   ]
  },
  {
   "cell_type": "markdown",
   "metadata": {},
   "source": [
    "### 寫入身分"
   ]
  },
  {
   "cell_type": "code",
   "execution_count": 28,
   "metadata": {},
   "outputs": [],
   "source": [
    "conn=sqlite3.connect('../db.sqlite3')\n",
    "cursor=conn.cursor()"
   ]
  },
  {
   "cell_type": "code",
   "execution_count": 7,
   "metadata": {},
   "outputs": [
    {
     "data": {
      "text/plain": [
       "['公司行號', '工作室', '學生身分', '上班族兼職']"
      ]
     },
     "execution_count": 7,
     "metadata": {},
     "output_type": "execute_result"
    }
   ],
   "source": [
    "respondents=['公司行號', '工作室', '學生身分', '上班族兼職']\n",
    "respondents"
   ]
  },
  {
   "cell_type": "code",
   "execution_count": 8,
   "metadata": {},
   "outputs": [],
   "source": [
    "try:\n",
    "    for respondent in respondents:\n",
    "        cursor.execute(f'insert into user_respondent (name,createdon) values(\"{respondent}\",\"{today}\")')\n",
    "        conn.commit()\n",
    "except:\n",
    "    pass"
   ]
  },
  {
   "cell_type": "code",
   "execution_count": 9,
   "metadata": {},
   "outputs": [],
   "source": [
    "conn.close()"
   ]
  },
  {
   "cell_type": "markdown",
   "metadata": {},
   "source": [
    "### 寫入分類"
   ]
  },
  {
   "cell_type": "code",
   "execution_count": 10,
   "metadata": {},
   "outputs": [],
   "source": [
    "categorys=['程式開發',\n",
    " '平面設計',\n",
    " '網頁設計',\n",
    " '翻譯寫作',\n",
    " '商攝娛樂',\n",
    " '影像製作',\n",
    " '空間設計',\n",
    " '生活服務',\n",
    " '活動企劃',\n",
    " '專業顧問',\n",
    " '資訊工程']"
   ]
  },
  {
   "cell_type": "code",
   "execution_count": 23,
   "metadata": {},
   "outputs": [],
   "source": [
    "conn=sqlite3.connect('../db.sqlite3')\n",
    "cursor=conn.cursor()"
   ]
  },
  {
   "cell_type": "code",
   "execution_count": 12,
   "metadata": {},
   "outputs": [],
   "source": [
    "try:\n",
    "    for i,category in enumerate(categorys):\n",
    "        cursor.execute(f'insert into case_category (id,name,createdon) values({i+1},\"{category}\",\"{today}\")')\n",
    "        conn.commit()\n",
    "except:\n",
    "    pass"
   ]
  },
  {
   "cell_type": "markdown",
   "metadata": {},
   "source": [
    "### 寫入金額"
   ]
  },
  {
   "cell_type": "code",
   "execution_count": 13,
   "metadata": {},
   "outputs": [],
   "source": [
    "amounts=['3000','5000','10000~30000','50000','10萬','30萬','50萬~100萬','100萬以上','面議']"
   ]
  },
  {
   "cell_type": "code",
   "execution_count": 14,
   "metadata": {},
   "outputs": [],
   "source": [
    "try:\n",
    "    for i,amount in enumerate(amounts):\n",
    "        cursor.execute(f'insert into case_amount (id,name,createdon) values({i+1},\"{amount}\",\"{today}\")')\n",
    "        conn.commit()\n",
    "except:\n",
    "    pass"
   ]
  },
  {
   "cell_type": "markdown",
   "metadata": {},
   "source": [
    "### 寫入mode"
   ]
  },
  {
   "cell_type": "code",
   "execution_count": 15,
   "metadata": {},
   "outputs": [],
   "source": [
    "\n",
    "modes=['到場配合','遠端合作','面談']"
   ]
  },
  {
   "cell_type": "code",
   "execution_count": 16,
   "metadata": {},
   "outputs": [],
   "source": [
    "try:\n",
    "    for i,mode in enumerate(modes):\n",
    "        cursor.execute(f'insert into case_mode (id,name,createdon) values({i+1},\"{mode}\",\"{today}\")')\n",
    "        conn.commit()\n",
    "except:\n",
    "    pass"
   ]
  },
  {
   "cell_type": "markdown",
   "metadata": {},
   "source": [
    "### 寫入states"
   ]
  },
  {
   "cell_type": "code",
   "execution_count": 17,
   "metadata": {},
   "outputs": [],
   "source": [
    "states=['新進案','發案中','製作中','已結案']"
   ]
  },
  {
   "cell_type": "code",
   "execution_count": 18,
   "metadata": {},
   "outputs": [],
   "source": [
    "try:\n",
    "    for i,state in enumerate(states):\n",
    "        cursor.execute(f'insert into case_state (id,name,createdon) values({i+1},\"{state}\",\"{today}\")')\n",
    "        conn.commit()\n",
    "except:\n",
    "    pass"
   ]
  },
  {
   "cell_type": "markdown",
   "metadata": {},
   "source": [
    "### 寫入periods"
   ]
  },
  {
   "cell_type": "code",
   "execution_count": 19,
   "metadata": {},
   "outputs": [],
   "source": [
    "periods=['3天內','一個禮拜','二~四個禮拜','一個月內','三個月','半年','一年以上','面議']"
   ]
  },
  {
   "cell_type": "code",
   "execution_count": 20,
   "metadata": {},
   "outputs": [],
   "source": [
    "try:\n",
    "    for i,period in enumerate(periods):\n",
    "        cursor.execute(f'insert into case_period (id,name,createdon) values({i+1},\"{period}\",\"{today}\")')\n",
    "        conn.commit()\n",
    "except:\n",
    "    pass"
   ]
  },
  {
   "cell_type": "code",
   "execution_count": 21,
   "metadata": {},
   "outputs": [],
   "source": [
    "conn.close()"
   ]
  },
  {
   "cell_type": "code",
   "execution_count": 45,
   "metadata": {},
   "outputs": [
    {
     "data": {
      "text/plain": [
       "[(1,\n",
       "  'pbkdf2_sha256$260000$GGVgkIYC61Km5QhIm8SEj5$3+xTB3IH1/Cs/ytTR/gpQSiuKZ9Obrxhn/4m1ht3/NQ=',\n",
       "  '2022-02-06 16:46:25.075032',\n",
       "  1,\n",
       "  'jerry',\n",
       "  '',\n",
       "  '',\n",
       "  1,\n",
       "  1,\n",
       "  '2022-02-06 16:45:58.692917',\n",
       "  'iiiplay001@gmail.com',\n",
       "  0,\n",
       "  0,\n",
       "  None,\n",
       "  None),\n",
       " (2,\n",
       "  'marymarymary',\n",
       "  None,\n",
       "  0,\n",
       "  'mary',\n",
       "  '',\n",
       "  '',\n",
       "  0,\n",
       "  1,\n",
       "  '2022-02-06 16:50:00',\n",
       "  '17app001@gmail.com',\n",
       "  0,\n",
       "  0,\n",
       "  5,\n",
       "  3),\n",
       " (3,\n",
       "  'kevinkevinkevin',\n",
       "  None,\n",
       "  0,\n",
       "  'kevin',\n",
       "  '',\n",
       "  '',\n",
       "  0,\n",
       "  1,\n",
       "  '2022-02-06 16:50:00',\n",
       "  '17app002@gmail.com',\n",
       "  0,\n",
       "  0,\n",
       "  3,\n",
       "  2),\n",
       " (4,\n",
       "  'jackjackjack',\n",
       "  None,\n",
       "  0,\n",
       "  'jack',\n",
       "  '',\n",
       "  '',\n",
       "  0,\n",
       "  1,\n",
       "  '2022-02-06 16:51:00',\n",
       "  'codewithjerry1@gmail.com',\n",
       "  0,\n",
       "  0,\n",
       "  15,\n",
       "  4),\n",
       " (5,\n",
       "  'michaelmichaelmichael',\n",
       "  None,\n",
       "  0,\n",
       "  'michael',\n",
       "  '',\n",
       "  '',\n",
       "  0,\n",
       "  1,\n",
       "  '2022-02-06 16:51:00',\n",
       "  'mdream.studio@gmail.com',\n",
       "  0,\n",
       "  0,\n",
       "  3,\n",
       "  2)]"
      ]
     },
     "execution_count": 45,
     "metadata": {},
     "output_type": "execute_result"
    }
   ],
   "source": [
    "users=list(cursor.execute('select * from user_profile'))\n",
    "users\n"
   ]
  },
  {
   "cell_type": "markdown",
   "metadata": {},
   "source": [
    "### 取得user id"
   ]
  },
  {
   "cell_type": "code",
   "execution_count": 46,
   "metadata": {},
   "outputs": [
    {
     "data": {
      "text/plain": [
       "[1, 2, 3, 4, 5]"
      ]
     },
     "execution_count": 46,
     "metadata": {},
     "output_type": "execute_result"
    }
   ],
   "source": [
    "user_ids=[user[0] for user in users]\n",
    "user_ids"
   ]
  },
  {
   "cell_type": "code",
   "execution_count": 36,
   "metadata": {},
   "outputs": [],
   "source": [
    "import pandas as pd"
   ]
  },
  {
   "cell_type": "markdown",
   "metadata": {},
   "source": [
    "### 讀取資料"
   ]
  },
  {
   "cell_type": "code",
   "execution_count": 37,
   "metadata": {},
   "outputs": [
    {
     "data": {
      "text/html": [
       "<div>\n",
       "<style scoped>\n",
       "    .dataframe tbody tr th:only-of-type {\n",
       "        vertical-align: middle;\n",
       "    }\n",
       "\n",
       "    .dataframe tbody tr th {\n",
       "        vertical-align: top;\n",
       "    }\n",
       "\n",
       "    .dataframe thead th {\n",
       "        text-align: right;\n",
       "    }\n",
       "</style>\n",
       "<table border=\"1\" class=\"dataframe\">\n",
       "  <thead>\n",
       "    <tr style=\"text-align: right;\">\n",
       "      <th></th>\n",
       "      <th>link</th>\n",
       "      <th>title</th>\n",
       "      <th>price</th>\n",
       "      <th>city</th>\n",
       "      <th>detail</th>\n",
       "    </tr>\n",
       "  </thead>\n",
       "  <tbody>\n",
       "    <tr>\n",
       "      <th>0</th>\n",
       "      <td>https://www.tasker.com.tw/case/detail/3mY8n</td>\n",
       "      <td>NodeMCU&amp;QR CODE模組門禁鎖</td>\n",
       "      <td>5,001~1萬</td>\n",
       "      <td>台中市</td>\n",
       "      <td>1.案件說明：NodeMCU 連接QRCODE 模組（Bar Code&amp;QR Code)使用...</td>\n",
       "    </tr>\n",
       "    <tr>\n",
       "      <th>1</th>\n",
       "      <td>https://www.tasker.com.tw/case/detail/J9aZK</td>\n",
       "      <td>系統工程師</td>\n",
       "      <td>1萬~5萬</td>\n",
       "      <td>不限</td>\n",
       "      <td>1.案件說明：徵求系統工程師，需能在IOS、Android系統應用，協助日後維護管理\\r\\n...</td>\n",
       "    </tr>\n",
       "    <tr>\n",
       "      <th>2</th>\n",
       "      <td>https://www.tasker.com.tw/case/detail/54Yz5</td>\n",
       "      <td>SNS APP開發</td>\n",
       "      <td>10萬~30萬</td>\n",
       "      <td>不限</td>\n",
       "      <td>1.案件說明：獨立開發SNS APP，協助上線在IOS、Android系統應用，長期配合協助...</td>\n",
       "    </tr>\n",
       "    <tr>\n",
       "      <th>3</th>\n",
       "      <td>https://www.tasker.com.tw/case/detail/qbLMX</td>\n",
       "      <td>安卓音訊處理APP</td>\n",
       "      <td>1萬~5萬</td>\n",
       "      <td>不限</td>\n",
       "      <td>1.案件說明：協助安卓音訊處理APP，詳細參考附件\\r\\n2.注意事項：具備相關能力或實務經...</td>\n",
       "    </tr>\n",
       "    <tr>\n",
       "      <th>4</th>\n",
       "      <td>https://www.tasker.com.tw/case/detail/b1qeB</td>\n",
       "      <td>Access 資料庫</td>\n",
       "      <td>$3,000</td>\n",
       "      <td>不限</td>\n",
       "      <td>1.案件說明：協助基本Access 資料庫檔案一件，已完成部份\\r\\n2.注意事項：需要12...</td>\n",
       "    </tr>\n",
       "    <tr>\n",
       "      <th>...</th>\n",
       "      <td>...</td>\n",
       "      <td>...</td>\n",
       "      <td>...</td>\n",
       "      <td>...</td>\n",
       "      <td>...</td>\n",
       "    </tr>\n",
       "    <tr>\n",
       "      <th>593</th>\n",
       "      <td>https://www.tasker.com.tw/case/detail/r4YPp</td>\n",
       "      <td>testflight上架</td>\n",
       "      <td>5,001~1萬</td>\n",
       "      <td>不限</td>\n",
       "      <td>1.案件說明：我有多個IOS APP應用要上testflight外測，要能穩定長期不封號\\r...</td>\n",
       "    </tr>\n",
       "    <tr>\n",
       "      <th>594</th>\n",
       "      <td>https://www.tasker.com.tw/case/detail/Y92OZ</td>\n",
       "      <td>藍芽MCU開發</td>\n",
       "      <td>1萬~5萬</td>\n",
       "      <td>不限</td>\n",
       "      <td>1.案件說明：協助藍芽ＭＣＵ開發（新唐）設計， PCB電路layout，（本部地區）合適採取...</td>\n",
       "    </tr>\n",
       "    <tr>\n",
       "      <th>595</th>\n",
       "      <td>https://www.tasker.com.tw/case/detail/Y927K</td>\n",
       "      <td>EXCEL VBA 撰寫</td>\n",
       "      <td>$1,500</td>\n",
       "      <td>不限</td>\n",
       "      <td>1.案件說明：我想要請人代寫一本書 [看財報不抓狂] 中的EXCEL VBA 內容，書中都有...</td>\n",
       "    </tr>\n",
       "    <tr>\n",
       "      <th>596</th>\n",
       "      <td>https://www.tasker.com.tw/case/detail/63rmb</td>\n",
       "      <td>outlook excel</td>\n",
       "      <td>5千以下</td>\n",
       "      <td>台北市</td>\n",
       "      <td>1.案件說明：協助對方回覆之OUTLOOK信件內容中擷取特定內容至Excel指定欄位中\\r\\...</td>\n",
       "    </tr>\n",
       "    <tr>\n",
       "      <th>597</th>\n",
       "      <td>https://www.tasker.com.tw/case/detail/mJvrX</td>\n",
       "      <td>票券系統功能新增與維護</td>\n",
       "      <td>1萬~5萬</td>\n",
       "      <td>不限</td>\n",
       "      <td>1.案件說明：開發與維護平台，包含會員、票券系統\\r\\n2.配合時間：長期\\r\\n3.配合地...</td>\n",
       "    </tr>\n",
       "  </tbody>\n",
       "</table>\n",
       "<p>598 rows × 5 columns</p>\n",
       "</div>"
      ],
      "text/plain": [
       "                                            link                 title  \\\n",
       "0    https://www.tasker.com.tw/case/detail/3mY8n  NodeMCU&QR CODE模組門禁鎖   \n",
       "1    https://www.tasker.com.tw/case/detail/J9aZK                 系統工程師   \n",
       "2    https://www.tasker.com.tw/case/detail/54Yz5             SNS APP開發   \n",
       "3    https://www.tasker.com.tw/case/detail/qbLMX             安卓音訊處理APP   \n",
       "4    https://www.tasker.com.tw/case/detail/b1qeB            Access 資料庫   \n",
       "..                                           ...                   ...   \n",
       "593  https://www.tasker.com.tw/case/detail/r4YPp          testflight上架   \n",
       "594  https://www.tasker.com.tw/case/detail/Y92OZ               藍芽MCU開發   \n",
       "595  https://www.tasker.com.tw/case/detail/Y927K          EXCEL VBA 撰寫   \n",
       "596  https://www.tasker.com.tw/case/detail/63rmb         outlook excel   \n",
       "597  https://www.tasker.com.tw/case/detail/mJvrX           票券系統功能新增與維護   \n",
       "\n",
       "        price city                                             detail  \n",
       "0    5,001~1萬  台中市  1.案件說明：NodeMCU 連接QRCODE 模組（Bar Code&QR Code)使用...  \n",
       "1       1萬~5萬   不限  1.案件說明：徵求系統工程師，需能在IOS、Android系統應用，協助日後維護管理\\r\\n...  \n",
       "2     10萬~30萬   不限  1.案件說明：獨立開發SNS APP，協助上線在IOS、Android系統應用，長期配合協助...  \n",
       "3       1萬~5萬   不限  1.案件說明：協助安卓音訊處理APP，詳細參考附件\\r\\n2.注意事項：具備相關能力或實務經...  \n",
       "4      $3,000   不限  1.案件說明：協助基本Access 資料庫檔案一件，已完成部份\\r\\n2.注意事項：需要12...  \n",
       "..        ...  ...                                                ...  \n",
       "593  5,001~1萬   不限  1.案件說明：我有多個IOS APP應用要上testflight外測，要能穩定長期不封號\\r...  \n",
       "594     1萬~5萬   不限  1.案件說明：協助藍芽ＭＣＵ開發（新唐）設計， PCB電路layout，（本部地區）合適採取...  \n",
       "595    $1,500   不限  1.案件說明：我想要請人代寫一本書 [看財報不抓狂] 中的EXCEL VBA 內容，書中都有...  \n",
       "596      5千以下  台北市  1.案件說明：協助對方回覆之OUTLOOK信件內容中擷取特定內容至Excel指定欄位中\\r\\...  \n",
       "597     1萬~5萬   不限  1.案件說明：開發與維護平台，包含會員、票券系統\\r\\n2.配合時間：長期\\r\\n3.配合地...  \n",
       "\n",
       "[598 rows x 5 columns]"
      ]
     },
     "execution_count": 37,
     "metadata": {},
     "output_type": "execute_result"
    }
   ],
   "source": [
    "df=pd.read_csv('./程式開發.csv',index_col=0)\n",
    "df"
   ]
  },
  {
   "cell_type": "code",
   "execution_count": 38,
   "metadata": {},
   "outputs": [
    {
     "data": {
      "text/plain": [
       "[]"
      ]
     },
     "execution_count": 38,
     "metadata": {},
     "output_type": "execute_result"
    }
   ],
   "source": [
    "cases=list(cursor.execute('select * from case_case'))\n",
    "cases"
   ]
  },
  {
   "cell_type": "markdown",
   "metadata": {},
   "source": [
    "### 取得最後編號"
   ]
  },
  {
   "cell_type": "code",
   "execution_count": 39,
   "metadata": {},
   "outputs": [
    {
     "data": {
      "text/plain": [
       "1"
      ]
     },
     "execution_count": 39,
     "metadata": {},
     "output_type": "execute_result"
    }
   ],
   "source": [
    "no= cases[-1][0] if len(cases) > 0 else 1\n",
    "no"
   ]
  },
  {
   "cell_type": "code",
   "execution_count": 40,
   "metadata": {},
   "outputs": [
    {
     "data": {
      "text/plain": [
       "'insert into case_case values({},\"{}\",\"{}\",\"{}\",\"{}\",\"{}\",    {},{},{},{},{},{},\"{}\"'"
      ]
     },
     "execution_count": 40,
     "metadata": {},
     "output_type": "execute_result"
    }
   ],
   "source": [
    "sql_str='insert into case_case values({},\"{}\",\"{}\",\"{}\",\"{}\",\"{}\",\\\n",
    "    {},{},{},{},{},{},\"{}\"'\n",
    "sql_str\n"
   ]
  },
  {
   "cell_type": "code",
   "execution_count": 41,
   "metadata": {},
   "outputs": [
    {
     "data": {
      "text/plain": [
       "['https://www.tasker.com.tw/case/detail/3mY8n',\n",
       " 'NodeMCU&QR CODE模組門禁鎖',\n",
       " '5,001~1萬',\n",
       " '台中市',\n",
       " '1.案件說明：NodeMCU 連接QRCODE 模組（Bar Code&QR Code)使用Arduino IDE撰寫，把模組掃到條碼資料顯示在Arduino IDE的監控視窗。\\r\\n2.注意事項：具備相關能力或實務經驗，其他細節詳談']"
      ]
     },
     "execution_count": 41,
     "metadata": {},
     "output_type": "execute_result"
    }
   ],
   "source": [
    "data=df.values.tolist()[0]\n",
    "data"
   ]
  },
  {
   "cell_type": "code",
   "execution_count": 26,
   "metadata": {},
   "outputs": [],
   "source": [
    "import random"
   ]
  },
  {
   "cell_type": "code",
   "execution_count": 42,
   "metadata": {},
   "outputs": [
    {
     "data": {
      "text/plain": [
       "2"
      ]
     },
     "execution_count": 42,
     "metadata": {},
     "output_type": "execute_result"
    }
   ],
   "source": [
    "random.randint(1,len(amounts))"
   ]
  },
  {
   "cell_type": "code",
   "execution_count": 43,
   "metadata": {},
   "outputs": [
    {
     "data": {
      "text/plain": [
       "'insert into case_case values(2,\"NodeMCU&QR CODE模組門禁鎖\",\"1.案件說明：NodeMCU 連接QRCODE 模組（Bar Code&QR Code)使用Arduino IDE撰寫，把模組掃到條碼資料顯示在Arduino IDE的監控視窗。\\r\\n2.注意事項：具備相關能力或實務經驗，其他細節詳談\",\"0987578587\",\"\",\"2022-02-07 00:50:07\",    0,6,7,1,6,3,\"2022-02-07 00:50:07\"'"
      ]
     },
     "execution_count": 43,
     "metadata": {},
     "output_type": "execute_result"
    }
   ],
   "source": [
    "sql_str.format(no+1,data[1],data[4],'0987578587','',datetime.now().strftime(\"%Y-%m-%d %H:%M:%S\"),\n",
    "0,random.randint(1,len(amounts)),random.randint(1,len(categorys)),random.choice(user_ids),\n",
    "random.randint(1,len(periods)),random.randint(1,len(states)),datetime.now().strftime(\"%Y-%m-%d %H:%M:%S\"))\n",
    "\n",
    "\n"
   ]
  },
  {
   "cell_type": "code",
   "execution_count": 44,
   "metadata": {},
   "outputs": [
    {
     "data": {
      "text/plain": [
       "1"
      ]
     },
     "execution_count": 44,
     "metadata": {},
     "output_type": "execute_result"
    }
   ],
   "source": [
    "random.choice(user_ids)"
   ]
  },
  {
   "cell_type": "code",
   "execution_count": 59,
   "metadata": {},
   "outputs": [],
   "source": [
    "cursor.execute('delete from case_case')\n",
    "conn.commit()\n"
   ]
  },
  {
   "cell_type": "markdown",
   "metadata": {},
   "source": [
    "### 寫入資料"
   ]
  },
  {
   "cell_type": "code",
   "execution_count": 60,
   "metadata": {},
   "outputs": [
    {
     "name": "stdout",
     "output_type": "stream",
     "text": [
      "insert into case_case values(1,\"NodeMCU&QR CODE模組門禁鎖\",\"1.案件說明：NodeMCU 連接QRCODE 模組（Bar Code&QR Code)使用Arduino IDE撰寫，把模組掃到條碼資料顯示在Arduino IDE的監控視窗。\n",
      "2.注意事項：具備相關能力或實務經驗，其他細節詳談\",\"0987578587\",\"\",\"2022-02-07 01:07:32\",                \"2022-02-07 01:07:32\",0,7,7,2,3,4);\n",
      "insert into case_case values(2,\"系統工程師\",\"1.案件說明：徵求系統工程師，需能在IOS、Android系統應用，協助日後維護管理\n",
      "2.注意事項：\n",
      "(一)具備相關能力或實務經驗\n",
      "(二)若有作品集可以提供我方參考佳\n",
      "(三)此案件需開立發票以便我方報帳\",\"0987578587\",\"\",\"2022-02-07 01:07:32\",                \"2022-02-07 01:07:32\",0,5,6,1,3,3);\n",
      "insert into case_case values(3,\"SNS APP開發\",\"1.案件說明：獨立開發SNS APP，協助上線在IOS、Android系統應用，長期配合協助日後維護管理\n",
      "2.注意事項：若有作品集提供參考為佳，此案件需開立發票以便我方報帳\",\"0987578587\",\"\",\"2022-02-07 01:07:32\",                \"2022-02-07 01:07:32\",0,1,5,5,2,3);\n",
      "insert into case_case values(4,\"安卓音訊處理APP\",\"1.案件說明：協助安卓音訊處理APP，詳細參考附件\n",
      "2.注意事項：具備相關能力或實務經驗，其他細節詳談，\",\"0987578587\",\"\",\"2022-02-07 01:07:32\",                \"2022-02-07 01:07:32\",0,5,10,4,8,4);\n",
      "insert into case_case values(5,\"Access 資料庫\",\"1.案件說明：協助基本Access 資料庫檔案一件，已完成部份\n",
      "2.注意事項：需要12／19(含) 完成，可看過檔案再報價，請mail 到信箱\",\"0987578587\",\"\",\"2022-02-07 01:07:32\",                \"2022-02-07 01:07:32\",0,9,11,3,8,3);\n",
      "insert into case_case values(6,\"EXCEL VBA 程式開發\",\"1.案件說明：協助我司開發快速轉檔製作為報告的程式。將 EXCEL.CSV 資料檔案(原始檔)轉換為固定格式的WORD報告，需能利用MATLAB程式將數據轉換3D圖檔。\n",
      "1.1 我司需要製作3個，WORD報告格式雷同的檔案,但輸入資料長短不同的轉換檔。\n",
      "1.2 原始的EXCEL.CSV 因網站需求改為提供.TXT 檔,PDF檔為WORD報告格式.\n",
      "2.注意事項：具備相關能力或實務經驗，若有作品集可以提供我方參考佳，此案件需開立發票以便我方報帳\",\"0987578587\",\"\",\"2022-02-07 01:07:32\",                \"2022-02-07 01:07:32\",0,3,9,2,2,3);\n",
      "insert into case_case values(7,\"典藏查閱系統\",\"一、案件說明：在原有資料基礎上新增較現代與實用的查閱與篩選方式。\n",
      "二、參考網址：\n",
      "將類似https://fossil.tnc.gov.tw/fossil/list.php?m2=31此頁面與其資料修改\n",
      "類似https://collections.nmth.gov.tw/CollectionSearch01.aspx?a=112\n",
      "三、注意事項：具備相關能力或實務經驗，其他細節詳談。\",\"0987578587\",\"\",\"2022-02-07 01:07:32\",                \"2022-02-07 01:07:32\",0,5,6,4,5,1);\n",
      "insert into case_case values(8,\"大健康加盟商事業 POS系統開發\",\"一、案件說明：\n",
      "(1)集團預計發展大健康加盟商體系\n",
      "(2)開發需求為 網站後台管理系統+加盟商POS系統 \n",
      "(3)尋找合作廠商\n",
      "二、注意事項：\n",
      "(1)具備相關能力或實務經驗\n",
      "(2)聯繫時能一併提供作品集給我方參考尤佳\n",
      "(3)此案件需開立發票以便我方報帳\",\"0987578587\",\"\",\"2022-02-07 01:07:32\",                \"2022-02-07 01:07:32\",0,7,4,4,3,2);\n",
      "insert into case_case values(9,\"網頁設計\",\"1.案件說明：想找人合作一起寫網頁，一起研究開發App\n",
      "2.注意事項：具備相關能力或實務經驗，其他細節詳談\",\"0987578587\",\"\",\"2022-02-07 01:07:32\",                \"2022-02-07 01:07:32\",0,3,3,5,6,4);\n",
      "insert into case_case values(10,\"APP開發\",\"1.案件說明：為我開發派工系統簽收系統APP，需能在IOS、Android系統應用，協助日後維護管理\n",
      "2.注意事項：具備相關能力或實務經驗，若有作品集可以提供我方參考佳\",\"0987578587\",\"\",\"2022-02-07 01:07:32\",                \"2022-02-07 01:07:32\",0,8,3,2,6,4);\n",
      "insert into case_case values(11,\"軟體開發\",\"一、案件說明：執行需求為開發的項目例如網站、後端管理系統、電腦應用程式、手機應用程式、手遊或電腦遊戲等等，希望使用C# or PHP，需要部屬、維護或其他技術支援，是否已有介面流程和測試版等。\n",
      "二、注意事項：\n",
      "(1)報價請一併附上相關作品、使用工具。\n",
      "(2)需定期配合開會。\n",
      "(3)此案需長期合作者。\",\"0987578587\",\"\",\"2022-02-07 01:07:32\",                \"2022-02-07 01:07:32\",0,3,11,5,2,4);\n",
      "insert into case_case values(12,\"隨機抽選分配系統\",\"一、案件說明：為我開發「抽選分配系統」，依分配對象限制條件，細節面議詳談。\n",
      "二、注意事項：\n",
      "(1)具備相關能力或實務經驗，若有作品集可以提供我方參考佳。\n",
      "(2)此案件需開立發票以便我方報帳。\",\"0987578587\",\"\",\"2022-02-07 01:07:32\",                \"2022-02-07 01:07:32\",0,7,4,2,4,1);\n",
      "insert into case_case values(13,\"【養生電商】進銷存ERP系統開發外包\",\"*【養生電商】進銷存ERP系統開發外包 | 系統資料整合與開發 | 配合度高、具備相關經驗 | RWD網頁版 | 高雄、台南、屏東\n",
      "一.案件說明：因業務需求增加，舊有系統雖然還可以使用，但功能較少，加上在網路上販售的通路多元，需擴充成符合現在使用的需求。因此，急需建置一套新的進銷存ERP系統提高目前在營運管理與訂單處理的效率。\n",
      "二.注意事項：\n",
      "(1)特定功能：\n",
      "－網絡通路的訂單資料要能夠整合到進銷存系統裡，資料也要能夠做統計與運算。會撰寫爬蟲程式為佳。\n",
      "－網絡通路的訂單資料要能夠連接到物流網站(提供超連接的選項，點選即可查看對應編號的物流狀態)。\n",
      "－網絡通路的訂單資料要能夠直接填入貨運單，不必再透過人工填寫貨運單，即可確認填入的資料是否正確或直接可以列印。\n",
      "－其餘功能與細節詳談。\n",
      "(2)權限：可以提供目前使用的舊系統與他人協助開發的系統權限和程式碼資料作為開發時的參考。\n",
      "(3)要求：配合度高、具備相關經驗且可以確實完成、各項功能能夠在3到4天內完成；若無法達成，也請主動回報預期完成的時間與目前狀況。\n",
      "(4)地點：開發廠商的所在地以高雄地區為最佳，台南與屏東亦可。每兩週需固定到高雄公司開會討論進度與開發狀況，直到系統建置與驗收完成。\n",
      "(5)存取：系統開發需為RWD網頁版，也需要兼顧手機的可讀性。\n",
      "(6)程式語言：無限制；但舊有系統的程式語言為：ASP.NET、PHP或Python。\n",
      "(7)有作品集可供查看為佳。\",\"0987578587\",\"\",\"2022-02-07 01:07:32\",                \"2022-02-07 01:07:32\",0,2,6,2,8,3);\n",
      "insert into case_case values(14,\"RWD響應式線上投票系統\",\"一、案件說明：\n",
      "【專題計劃書-響應式線上投票系統】\n",
      "我們做這個投票系統的目的是鼓勵大家去投票提升投票率，同時也要預防被灌票失去了公平性，在我們的投票系統首頁的按鈕有使用登入、使用者註冊、查看投票項目、立即投票、兌換區還有查看使用者的點數、投票的紀錄還有使用者用點數兌換的紀錄，每當使用者完成投票時就會獲得點數，在首頁還有一個公佈欄用來顯示投票的結果，一定要註冊登入才能夠進行投票，使用者登入之後在首頁的有上方顯示使用者的名字和科系，還要做一個管理者的介面用來創造投票和結束投票的選項，還有設定投票的規定例如（是單選還是複選、幾歲到幾歲才能夠投票、或是只有資訊工程系的學生才能夠來投票，又或者是只有大三的學生才能進行投票等），還有當管理者結束這個投票，投票一結束就馬上結算票數，最後的結果顯示在首頁的公佈欄上，使用者註冊時需要填寫名字、年紀、年級、科系、電話，這是一個以校園為主題的投票系統。註冊的資料會存到資料庫裡面，同時投票的紀錄和結果也會存到資料庫裡面，使用者可以在電腦或者在手機上進行投票。\n",
      "二、注意事項：需要用到:php、html、mysql\",\"0987578587\",\"\",\"2022-02-07 01:07:32\",                \"2022-02-07 01:07:32\",0,2,1,4,4,1);\n",
      "insert into case_case values(15,\"ERP及內部應用系統整合開發\",\"一、案件說明：WorkFlow ERP 整合外部系統開發\n",
      "二、注意事項：\n",
      "(1)程式技術:c#,MVC,Vue\n",
      "(2)資料庫:MSSQL\n",
      "(3)擅長WPF佳\n",
      "(4)其他案件內容細節詳談\",\"0987578587\",\"\",\"2022-02-07 01:07:32\",                \"2022-02-07 01:07:32\",0,6,2,1,3,3);\n",
      "insert into case_case values(16,\"APP程式開發\",\"一.APP開發需求，快充站APP開發\n",
      "1.會員制度(註冊/登入)\n",
      "2.充電功能：消費％數設定與計費\n",
      "3.點位地圖：點位呈現+樁體使用狀況+預計到達時間\n",
      "4.充電服務預定：可預定空閒樁體\n",
      "5.點位與樁體基本資訊\n",
      "6.未來合作行銷點數折\n",
      "7.手機 OTP驗證\n",
      "二.資格：\n",
      "1.5年以上APP開發經驗\n",
      "2.須提供本人實際APP開發作品下載網址 (無提供案例請勿來函)\n",
      "3.需有2位以上全職IOS及ANDROID工程師\n",
      "4.需能面訪\n",
      "5.有相關經驗開發工程師優先\",\"0987578587\",\"\",\"2022-02-07 01:07:32\",                \"2022-02-07 01:07:32\",0,3,5,1,8,3);\n",
      "insert into case_case values(17,\"虛擬實境AR設計師或工程師\",\"1.案件說明：AR開發需求：想製作有AR的 APP 可以直接透過手機APP 模擬家裡裝了他們的窗簾會是什麼樣子\n",
      "2.資格：3年以上AR開發經驗，須提供本人實際AR開發作品網址 (無提供案例請勿來函)\",\"0987578587\",\"\",\"2022-02-07 01:07:32\",                \"2022-02-07 01:07:32\",0,1,4,1,4,2);\n",
      "insert into case_case values(18,\"加密貨幣平台註冊與使用教學\",\"1.案件說明：中心化交易所與Defi平台註冊與使用教學/簡易網站與網頁維護\n",
      "2.注意事項：長期配合，具備相關能力或實務經驗，其他細節詳談\",\"0987578587\",\"\",\"2022-02-07 01:07:32\",                \"2022-02-07 01:07:32\",0,6,5,2,5,4);\n",
      "insert into case_case values(19,\"Web手機php\",\"1.案件說明：協助\tWeb手機php\n",
      "2.注意事項：具備相關能力或實務經驗，其他細節詳談\",\"0987578587\",\"\",\"2022-02-07 01:07:32\",                \"2022-02-07 01:07:32\",0,6,3,5,5,3);\n",
      "insert into case_case values(20,\"MediaPipe調整打包APK\",\"1.案件說明：調整部分內容並包成可運作的apk，參考：https://google.github.io/mediapipe/solutions/objectron\n",
      "\n",
      "2.注意事項：具備相關能力或實務經驗，其他細節詳談\",\"0987578587\",\"\",\"2022-02-07 01:07:32\",                \"2022-02-07 01:07:32\",0,4,10,3,6,3);\n",
      "insert into case_case values(21,\"Android APP與藍芽裝置整合應用\",\"一、案件說明：透過藍芽裝置來傳送資訊到手機，資後整合資料再上傳至現有server。\n",
      "二、注意事項：具備相關能力或實務經驗，其他細節詳談。\",\"0987578587\",\"\",\"2022-02-07 01:07:32\",                \"2022-02-07 01:07:32\",0,6,1,3,4,2);\n",
      "insert into case_case values(22,\"App開發\",\"1.案件說明：App用途為提供客戶手機購物下單使用。\n",
      "2.注意事項：此App是要在中國大陸使用，非台灣當地。\",\"0987578587\",\"\",\"2022-02-07 01:07:32\",                \"2022-02-07 01:07:32\",0,5,1,3,8,3);\n",
      "insert into case_case values(23,\"如何使用https\",\"1.案件說明：我架了一個站和一般網站不同的是，別站的網址是用 https, 可是我不能這麼用，我需用 http, 此外所有瀏覽器的 URL 都說本站不安全！很久前曾有人來信指點一二可是我看不懂，\n",
      "2.注意事項：我希望使用的是 https 並且不被冤枉說不安全，我的 IP於報價後提供\",\"0987578587\",\"\",\"2022-02-07 01:07:32\",                \"2022-02-07 01:07:32\",0,9,6,4,1,4);\n",
      "insert into case_case values(24,\"excel導入網上數據\",\"1.案件說明：需協助簡單用excel導入網上數據回測\n",
      "2.注意事項：具備相關能力或實務經驗，其他細節詳談\",\"0987578587\",\"\",\"2022-02-07 01:07:32\",                \"2022-02-07 01:07:32\",0,3,8,5,6,3);\n",
      "insert into case_case values(25,\"ERP連線問題排除\",\"1.案件說明：你好，本人是一般公司員工，因正航erp出現連線問題無法解決故想請問專業人士，以下為兩張主要問題圖片\n",
      "2.注意事項：其他細節詳談，可以詳細告知問題與嘗試過的方法\",\"0987578587\",\"\",\"2022-02-07 01:07:32\",                \"2022-02-07 01:07:32\",0,8,1,1,2,4);\n",
      "insert into case_case values(26,\"協助影像辨識\",\"1.案件說明：協助如人臉辨識、肢體辨識等影片，有許多專案，希望是新竹以北的人才，可隨時溝通、可長期配合者\n",
      "2.注意事項：需有相關經驗佳，也請準備相關作品\",\"0987578587\",\"\",\"2022-02-07 01:07:32\",                \"2022-02-07 01:07:32\",0,3,3,2,7,1);\n",
      "insert into case_case values(27,\"RWD網站建置\",\"1.案件說明：製作RWD網頁設計，我方販售課程產品，平台需有會員管理、報名、數據分析...等功能，協助日後維護管理\n",
      "2.注意事項：具備相關能力或實務經驗，若有作品集可以提供我方參考佳\",\"0987578587\",\"\",\"2022-02-07 01:07:32\",                \"2022-02-07 01:07:32\",0,3,6,3,3,1);\n",
      "insert into case_case values(28,\"Andriod 5.1 韌/軟體程式優化及功能增加\",\"1.案件說明：Rk3288 Andriod 5.1 韌/軟體程式優化，增加功能：\n",
      "(一)3.5mm 音屏輸出\n",
      "(二)OTA 網絡軟件升級\n",
      "(三)支持外接WiFi dongle\n",
      "(四)支持 Unsplash.com 的背景圖片撥放\n",
      "(五)同步當地時區(時間)\n",
      "2.注意事項：請用Line 聯絡，細節詳談\",\"0987578587\",\"\",\"2022-02-07 01:07:32\",                \"2022-02-07 01:07:32\",0,2,11,5,7,3);\n",
      "insert into case_case values(29,\"DAPP軟體開發\",\"1.案件說明：Ethereum Smart Contracts and dApps 開發\n",
      "2.注意事項：需有開發經驗，能配合遠端工作，配合Tech Lead交付工作。\",\"0987578587\",\"\",\"2022-02-07 01:07:32\",                \"2022-02-07 01:07:32\",0,9,7,2,3,2);\n",
      "insert into case_case values(30,\"Project Management\",\"一.案件說明：本案為歐洲客戶醫療應用軟體代工，需求專案管理人員，工作描述如下：\n",
      "1.與Team Lead保持緊密聯繫，掌控團隊工作進度。\n",
      "2.製作雙週報，提供工作進度懶人包，協助Team Lead客戶回報。\n",
      "3.操作Jira專案管理系統。(可提供教學)\n",
      "4.追蹤專案Issue，提醒團隊進度，確保專案管理品質。\n",
      "5.協助Team Lead專案預算掌控。\n",
      "二.注意事項：\n",
      "1.案為全英文環境，需英文聽說讀寫佳。\n",
      "2.需配合日間/偶而夜間不定期開會。(大多為日間會議)\n",
      "3.工作日需Stand By，通訊軟體溝通，遠距工作。\n",
      "4.可長期配合，時薪制。\",\"0987578587\",\"\",\"2022-02-07 01:07:32\",                \"2022-02-07 01:07:32\",0,7,8,3,3,4);\n",
      "insert into case_case values(31,\"需能解決proxy sms 雙重認證問題\",\"1.案件說明：需能解決proxy sms 雙重認證問題，需熟悉臉書帳號相關\n",
      "2.注意事項：Sms有api可以接收，也可提供大量outlook mail帳密，有能力者詳談\",\"0987578587\",\"\",\"2022-02-07 01:07:32\",                \"2022-02-07 01:07:32\",0,9,8,4,2,4);\n",
      "insert into case_case values(32,\"前端網頁開發\",\"1.案件說明：協助前端網頁程式開發，希望熟悉Angular或Vue，能長期合作。\n",
      "2.注意事項：具備相關能力或實務經驗，其他細節詳談\",\"0987578587\",\"\",\"2022-02-07 01:07:32\",                \"2022-02-07 01:07:32\",0,1,6,5,1,3);\n",
      "insert into case_case values(33,\"APP產品測試\",\"1.案件說明：本案為健康醫療應用APP的產品測試計畫，產品測試人員需配合公司JIRA系統，進行Bug Report與 Bug Tracking管理，時薪$500/小時。\n",
      "2.工作說明：App產品測試人員以工時計，遠端工作，每週能至少投入五小時以上。日間須遠距參加不定時會議。\n",
      "3.注意事項：具備QC/QA經驗，英文聽說讀寫佳。\",\"0987578587\",\"\",\"2022-02-07 01:07:32\",                \"2022-02-07 01:07:32\",0,5,9,2,2,3);\n",
      "insert into case_case values(34,\"將開源的Github技術，製作圖形化介面\",\"一.案件說明：需要協助將市面上開源的影視黑科技，圖形化介面讓我司內部未來使用\n",
      "二.範例：\n",
      "1.https://github.com/vt-vl-lab/FGVC\n",
      "2.https://github.com/rubelchowdhury20/Neural-Re-Rendering-of-Humans-from-a-Single-Image\n",
      "3.https://github.com/compphoto/BoostingMonocularDepth\n",
      "三.注意事項：具備相關能力或實務經驗，若有作品集可以提供我方參考佳\",\"0987578587\",\"\",\"2022-02-07 01:07:32\",                \"2022-02-07 01:07:32\",0,5,10,4,1,2);\n",
      "insert into case_case values(35,\"用C++ C# Java 實現 STP EIGRP OSPF\",\"1.案件說明：詳情參閱附件，會提供input and output資料給您\n",
      "2.注意事項：具備相關能力或實務經驗，其他細節詳談\",\"0987578587\",\"\",\"2022-02-07 01:07:32\",                \"2022-02-07 01:07:32\",0,3,9,5,8,2);\n",
      "insert into case_case values(36,\"java 程式維護修改、弱點檢測問題修改\",\"1.案件說明：因目前在製作java的案子時，碰到無法解決的問題，需找詢程式專家及家教並解決程式問題。\n",
      "一、實上機器上跑的程式與軟體原碼，可能會有不相同的問題產生，因此\"有可能\"需反組譯程式來判斷開發的問題點。\n",
      "二、開發環境程式執行debug後發生錯誤訊息，不知道解決方法\n",
      "三、在追蹤程式碼時，會找不到對應的後端程式與JSP檔案\n",
      "四、弱點檢測的問題，要能排除\n",
      "五、最後有修改的地方再麻煩告知如何修改及調整\n",
      "六、程式教學，教學如何追從程式碼，從看到的第一個頁面到程式發生問題的點\n",
      "2.注意事項：\n",
      "(一)開發環境：JBOSS 4.2.3GA、Apache Tomcat、windows server、MS SQL、JAVA 1.6或1.7或1.8\n",
      "(二)需至本公司看詳談內容及問題\",\"0987578587\",\"\",\"2022-02-07 01:07:32\",                \"2022-02-07 01:07:32\",0,4,6,2,6,4);\n",
      "near \"有可能\": syntax error 35\n"
     ]
    }
   ],
   "source": [
    "no= cases[-1][0] if len(cases) > 0 else 0\n",
    "try:\n",
    "        for i,data in enumerate(df.values.tolist()):                 \n",
    "                no+=1\n",
    "                sql_str='insert into case_case values({},\"{}\",\"{}\",\"{}\",\"{}\",\"{}\",\\\n",
    "                \"{}\",{},{},{},{},{},{});'\n",
    "                sql_str=sql_str.format(no,data[1],data[4],'0987578587','',datetime.now().strftime(\"%Y-%m-%d %H:%M:%S\"),datetime.now().strftime(\"%Y-%m-%d %H:%M:%S\"),\n",
    "                        0,random.randint(1,len(amounts)),random.randint(1,len(categorys)),random.choice(user_ids),\n",
    "                        random.randint(1,len(periods)),random.randint(1,len(states)))\n",
    "\n",
    "                print(sql_str)\n",
    "               \n",
    "                cursor.execute(sql_str)\n",
    "\n",
    "except Exception as e:\n",
    "        print(e,i)\n",
    "\n",
    "conn.commit()\n",
    "\n",
    "\n",
    "\n",
    "\n",
    "\n"
   ]
  },
  {
   "cell_type": "code",
   "execution_count": null,
   "metadata": {},
   "outputs": [],
   "source": []
  }
 ],
 "metadata": {
  "interpreter": {
   "hash": "b3ba2566441a7c06988d0923437866b63cedc61552a5af99d1f4fb67d367b25f"
  },
  "kernelspec": {
   "display_name": "Python 3.8.8 64-bit ('base': conda)",
   "language": "python",
   "name": "python3"
  },
  "language_info": {
   "codemirror_mode": {
    "name": "ipython",
    "version": 3
   },
   "file_extension": ".py",
   "mimetype": "text/x-python",
   "name": "python",
   "nbconvert_exporter": "python",
   "pygments_lexer": "ipython3",
   "version": "3.8.8"
  },
  "orig_nbformat": 4
 },
 "nbformat": 4,
 "nbformat_minor": 2
}
